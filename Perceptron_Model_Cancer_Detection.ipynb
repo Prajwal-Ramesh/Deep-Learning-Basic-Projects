{
  "nbformat": 4,
  "nbformat_minor": 0,
  "metadata": {
    "colab": {
      "name": "Perceptron_Model_Cancer_Detection.ipynb",
      "provenance": []
    },
    "kernelspec": {
      "name": "python3",
      "display_name": "Python 3"
    },
    "language_info": {
      "name": "python"
    }
  },
  "cells": [
    {
      "cell_type": "code",
      "metadata": {
        "id": "6WgZEyZO4fF4"
      },
      "source": [
        "import sklearn.datasets\n",
        "import numpy as np\n",
        "import pandas as pd\n",
        "from sklearn.metrics import accuracy_score\n",
        "import matplotlib.pyplot as plt\n"
      ],
      "execution_count": 42,
      "outputs": []
    },
    {
      "cell_type": "markdown",
      "metadata": {
        "id": "XdtGS27B5QpK"
      },
      "source": [
        "#Loading Data"
      ]
    },
    {
      "cell_type": "code",
      "metadata": {
        "id": "AMOzR6bq5NHt"
      },
      "source": [
        "breast_cancer=sklearn.datasets.load_breast_cancer()\n",
        "x=breast_cancer.data\n",
        "y=breast_cancer.target\n",
        "data=pd.DataFrame(x,columns=breast_cancer.feature_names)\n",
        "data[\"class\"]=breast_cancer.target"
      ],
      "execution_count": 7,
      "outputs": []
    },
    {
      "cell_type": "markdown",
      "metadata": {
        "id": "Vaes0ydh5dWd"
      },
      "source": [
        "#Data Splitting for training and testing"
      ]
    },
    {
      "cell_type": "code",
      "metadata": {
        "id": "oWMftm8x5gWi"
      },
      "source": [
        "from sklearn.model_selection import train_test_split\n",
        "X=data.drop(\"class\",axis=1)\n",
        "Y=data[\"class\"]\n",
        "X_train,X_test,Y_train,Y_test=train_test_split(X,Y,test_size=0.1,stratify=Y,random_state=1)\n",
        "X_train = X_train.values\n",
        "X_test = X_test.values"
      ],
      "execution_count": 11,
      "outputs": []
    },
    {
      "cell_type": "markdown",
      "metadata": {
        "id": "pEqB_IrT5yF3"
      },
      "source": [
        "#Perceptron Model"
      ]
    },
    {
      "cell_type": "code",
      "metadata": {
        "id": "AxX4NINZ52t0"
      },
      "source": [
        "class Perceptron:\n",
        "  \n",
        "  def __init__ (self):\n",
        "    self.w = None\n",
        "    self.b = None\n",
        "    \n",
        "  def model(self, x):\n",
        "    return 1 if (np.dot(self.w, x) >= self.b) else 0\n",
        "    \n",
        "  def predict(self, X):\n",
        "    Y = []\n",
        "    for x in X:\n",
        "      result = self.model(x)\n",
        "      Y.append(result)\n",
        "    return np.array(Y)\n",
        "    \n",
        "  def fit(self, X, Y, epochs = 1, lr = 1):\n",
        "    \n",
        "    self.w = np.ones(X.shape[1])\n",
        "    self.b = 0\n",
        "    \n",
        "    accuracy = {}\n",
        "    max_accuracy = 0\n",
        "    \n",
        "    wt_matrix = []\n",
        "    \n",
        "    for i in range(epochs):\n",
        "      for x, y in zip(X, Y):\n",
        "        y_pred = self.model(x)\n",
        "        if y == 1 and y_pred == 0:\n",
        "          self.w = self.w + lr * x\n",
        "          self.b = self.b - lr * 1\n",
        "        elif y == 0 and y_pred == 1:\n",
        "          self.w = self.w - lr * x\n",
        "          self.b = self.b + lr * 1\n",
        "          \n",
        "      wt_matrix.append(self.w)    \n",
        "          \n",
        "      accuracy[i] = accuracy_score(self.predict(X), Y)\n",
        "      if (accuracy[i] > max_accuracy):\n",
        "        max_accuracy = accuracy[i]\n",
        "        chkptw = self.w\n",
        "        chkptb = self.b\n",
        "        \n",
        "    self.w = chkptw\n",
        "    self.b = chkptb\n",
        "        \n",
        "    print(max_accuracy)\n",
        "    \n",
        "    x=accuracy.values()\n",
        "    x=list(x)\n",
        "\n",
        "    plt.plot(x)\n",
        "    plt.ylim([0, 1])\n",
        "    \n",
        "    "
      ],
      "execution_count": 36,
      "outputs": []
    },
    {
      "cell_type": "markdown",
      "metadata": {
        "id": "jas4JowM7y9F"
      },
      "source": [
        "#Checking the model"
      ]
    },
    {
      "cell_type": "code",
      "metadata": {
        "colab": {
          "base_uri": "https://localhost:8080/",
          "height": 286
        },
        "id": "2SaGrM4572f3",
        "outputId": "d3ce57b0-5bad-4d0a-8485-1e4b23875f57"
      },
      "source": [
        "perceptron = Perceptron()\n",
        "wt_matrix = perceptron.fit(X_train, Y_train, 10000, 0.00001)"
      ],
      "execution_count": 40,
      "outputs": [
        {
          "output_type": "stream",
          "text": [
            "0.94140625\n"
          ],
          "name": "stdout"
        },
        {
          "output_type": "display_data",
          "data": {
            "image/png": "[encoded data removed]",
            "text/plain": [
              "<Figure size 432x288 with 1 Axes>"
            ]
          },
          "metadata": {
            "tags": [],
            "needs_background": "light"
          }
        }
      ]
    },
    {
      "cell_type": "markdown",
      "metadata": {
        "id": "7WowfAG5BNSG"
      },
      "source": [
        "#Testing the Model"
      ]
    },
    {
      "cell_type": "code",
      "metadata": {
        "colab": {
          "base_uri": "https://localhost:8080/"
        },
        "id": "r8zaxxUqBM4x",
        "outputId": "804298d7-2f22-4e5a-d1d7-c1ced331b73e"
      },
      "source": [
        "Y_pred_test = perceptron.predict(X_test)\n",
        "print(\"The accuracy of the test is \",accuracy_score(Y_pred_test, Y_test)*100,\"%\")"
      ],
      "execution_count": 43,
      "outputs": [
        {
          "output_type": "stream",
          "text": [
            "The accuracy of the test is  92.98245614035088 %\n"
          ],
          "name": "stdout"
        }
      ]
    }
  ]
}