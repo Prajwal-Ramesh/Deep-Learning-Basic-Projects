{
  "nbformat": 4,
  "nbformat_minor": 0,
  "metadata": {
    "colab": {
      "name": "MPneuron_cancer_detection.ipynb",
      "provenance": []
    },
    "kernelspec": {
      "name": "python3",
      "display_name": "Python 3"
    },
    "language_info": {
      "name": "python"
    }
  },
  "cells": [
    {
      "cell_type": "code",
      "metadata": {
        "id": "UsvHDhpyIXXb"
      },
      "source": [
        "import sklearn.datasets\n",
        "import numpy as np\n",
        "import pandas as pd\n",
        "from sklearn.metrics import accuracy_score\n",
        "\n"
      ],
      "execution_count": 69,
      "outputs": []
    },
    {
      "cell_type": "code",
      "metadata": {
        "id": "KJ52W6HdIkbP"
      },
      "source": [
        "breast_cancer=sklearn.datasets.load_breast_cancer()\n",
        "x=breast_cancer.data\n",
        "y=breast_cancer.target\n",
        "data=pd.DataFrame(x,columns=breast_cancer.feature_names)\n",
        "data[\"class\"]=breast_cancer.target\n"
      ],
      "execution_count": 70,
      "outputs": []
    },
    {
      "cell_type": "markdown",
      "metadata": {
        "id": "s-S7mNcJwf1u"
      },
      "source": [
        "Data Splitting for training and testing"
      ]
    },
    {
      "cell_type": "code",
      "metadata": {
        "id": "NxsooiQpUpS0"
      },
      "source": [
        "from sklearn.model_selection import train_test_split\n",
        "X=data.drop(\"class\",axis=1)\n",
        "Y=data[\"class\"]\n",
        "X_train,X_test,Y_train,Y_test=train_test_split(X,Y,test_size=0.1,stratify=Y,random_state=1)\n"
      ],
      "execution_count": 71,
      "outputs": []
    },
    {
      "cell_type": "markdown",
      "metadata": {
        "id": "WgamFaY7wk8y"
      },
      "source": [
        "#Binarisation"
      ]
    },
    {
      "cell_type": "code",
      "metadata": {
        "id": "ggrJ6QzWwwpm"
      },
      "source": [
        "X_binarised_train=X_train.apply(pd.cut,bins=2,labels=[1,0])\n",
        "X_binarised_test=X_test.apply(pd.cut,bins=2,labels=[1,0])\n",
        "X_binarised_train=np.array(X_binarised_train)\n",
        "X_binarised_test=np.array(X_binarised_test)\n",
        "\n",
        "\n"
      ],
      "execution_count": 72,
      "outputs": []
    },
    {
      "cell_type": "markdown",
      "metadata": {
        "id": "o9hHNi4sxcqz"
      },
      "source": [
        "#MP Neuron Model"
      ]
    },
    {
      "cell_type": "code",
      "metadata": {
        "id": "kYBDd_9kxb43"
      },
      "source": [
        "class MP_Neuron:\n",
        "  def __init__(self):\n",
        "    self.b=None\n",
        "\n",
        "  def model(self,x):\n",
        "    return (sum(x) >= self.b)\n",
        "\n",
        "  def predict(self,X):\n",
        "    y=[]\n",
        "    for x in X:\n",
        "      result=self.model(x)\n",
        "      y.append(result)\n",
        "    return np.array(y)\n",
        "\n",
        "  def fit(self,X,Y):\n",
        "    accuracy={}\n",
        "    for b in range(X.shape[1]+1):\n",
        "      self.b=b\n",
        "      Y_pred=self.predict(X)\n",
        "      accuracy[b]=accuracy_score(Y_pred,Y)\n",
        "    best_b=max(accuracy,key=accuracy.get)\n",
        "    self.b=best_b\n",
        "    print(\"Highest accuracy is\",accuracy[best_b]*100,\"% for b = \",best_b)"
      ],
      "execution_count": 80,
      "outputs": []
    },
    {
      "cell_type": "markdown",
      "metadata": {
        "id": "zIKQEiPP001z"
      },
      "source": [
        "#Training the model"
      ]
    },
    {
      "cell_type": "code",
      "metadata": {
        "colab": {
          "base_uri": "https://localhost:8080/"
        },
        "id": "eZkFRDa-05ky",
        "outputId": "b366726d-7c4e-46c3-90ff-37a7ac732568"
      },
      "source": [
        "mpn=MP_Neuron()\n",
        "mpn.fit(X_binarised_train,Y_train)"
      ],
      "execution_count": 81,
      "outputs": [
        {
          "output_type": "stream",
          "text": [
            "Highest accuracy is 84.9609375 % for b =  28\n"
          ],
          "name": "stdout"
        }
      ]
    },
    {
      "cell_type": "markdown",
      "metadata": {
        "id": "p2PU5dm74XQV"
      },
      "source": [
        "#Testing the model"
      ]
    },
    {
      "cell_type": "code",
      "metadata": {
        "colab": {
          "base_uri": "https://localhost:8080/"
        },
        "id": "VNioYb134WtU",
        "outputId": "21234535-fade-4960-8a5c-a036902de407"
      },
      "source": [
        "Y_test_pred = mpn.predict(X_binarised_test)\n",
        "accuracy_test = accuracy_score(Y_test_pred, Y_test)\n",
        "print(\"Accuracy is\",accuracy_test*100,\"%\")"
      ],
      "execution_count": 87,
      "outputs": [
        {
          "output_type": "stream",
          "text": [
            "Accuracy is 78.94736842105263 %\n"
          ],
          "name": "stdout"
        }
      ]
    }
  ]
}